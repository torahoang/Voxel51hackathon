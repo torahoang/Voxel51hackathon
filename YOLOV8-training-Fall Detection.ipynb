{
 "cells": [
  {
   "cell_type": "code",
   "execution_count": null,
   "id": "3a46497b-b46e-4fad-8c85-9d1c7f10cb74",
   "metadata": {},
   "outputs": [],
   "source": [
    "from ultralytics import YOLO\n",
    "\n",
    "# Load YOLO model\n",
    "model = YOLO(\"yolov8n.yaml\")  \n",
    "\n",
    "# Train the model with a correct file path\n",
    "results = model.train(data=r\"your-path\\Fall Detection\\data.yaml\", epochs=1)"
   ]
  },
  {
   "cell_type": "code",
   "execution_count": null,
   "id": "ce0a535c-7d7c-4410-beac-8b1da11d0fbb",
   "metadata": {},
   "outputs": [],
   "source": [
    "from ultralytics import YOLO\n",
    "\n",
    "#  model path \n",
    "model = YOLO(r\"your-path\\runs\\detect\\train2\\weights\\best.pt\")"
   ]
  },
  {
   "cell_type": "code",
   "execution_count": null,
   "id": "5f2fb247-7781-4af7-8ec1-2e4e5dfc1dad",
   "metadata": {},
   "outputs": [],
   "source": [
    "# Image path\n",
    "image_path = r\"C:\\Users\\Belaa\\Desktop\\hack\\pic.jpg\"\n",
    "\n",
    "# Run inference\n",
    "results = model.predict(image_path, conf=0.075, save=True)"
   ]
  },
  {
   "cell_type": "code",
   "execution_count": null,
   "id": "396ce56b-1a96-4ab0-bd65-1ffbd90637c3",
   "metadata": {},
   "outputs": [],
   "source": [
    "# Path to input video\n",
    "video_path = r\"C:\\Users\\Belaa\\Downloads\\F07.MP4\"  # Use raw string (r\"\") to avoid issues\n",
    "\n",
    "# Run YOLO object detection on the video\n",
    "results = model.predict(source=video_path, conf=0.055, save=True)\n",
    "\n",
    "print(\"Video processing complete! Check 'runs/detect/predict/' for the output video.\")"
   ]
  }
 ],
 "metadata": {
  "kernelspec": {
   "display_name": "Python 3.10 (YOLO)",
   "language": "python",
   "name": "python310"
  },
  "language_info": {
   "codemirror_mode": {
    "name": "ipython",
    "version": 3
   },
   "file_extension": ".py",
   "mimetype": "text/x-python",
   "name": "python",
   "nbconvert_exporter": "python",
   "pygments_lexer": "ipython3",
   "version": "3.10.9"
  }
 },
 "nbformat": 4,
 "nbformat_minor": 5
}
